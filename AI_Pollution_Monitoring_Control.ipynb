pip install scikit-learn pandas matplotlib
import numpy as np
import pandas as pd
import matplotlib.pyplot as plt
from sklearn.ensemble import RandomForestRegressor

# Simulate sensor data (CO2, NOx, temperature, pressure)
np.random.seed(42)
data_size = 1000
df = pd.DataFrame({
    'CO2': np.random.normal(400, 50, data_size),
    'NOx': np.random.normal(30, 10, data_size),
    'temperature': np.random.normal(75, 5, data_size),
    'pressure': np.random.normal(1.0, 0.05, data_size),
    'emission_output': np.random.normal(200, 20, data_size)
})

# Train AI model to predict pollution level based on sensor data
features = ['CO2', 'NOx', 'temperature', 'pressure']
target = 'emission_output'
model = RandomForestRegressor()
model.fit(df[features], df[target])

# Simulate real-time monitoring
def monitor_and_control(new_data):
    predicted_emission = model.predict([new_data])[0]
    print(f"Predicted Emission: {predicted_emission:.2f} ppm")
    
    # Control logic
    if predicted_emission > 220:
        print("⚠️  Emission too high! Activating filters and reducing output...")
    elif predicted_emission < 180:
        print("✅ Emission levels safe.")
    else:
        print("ℹ️  Emission nearing threshold. Monitoring closely...")

# Example sensor input (new data point)
new_sensor_data = [450, 45, 78, 1.02]
monitor_and_control(new_sensor_data)
from sklearn.metrics import mean_squared_error

# Test prediction on real data
predicted = model.predict(df[features])
mse = mean_squared_error(df[target], predicted)

plt.scatter(df[target], predicted, alpha=0.5)
plt.xlabel("Actual Emission")
plt.ylabel("Predicted Emission")
plt.title(f"Prediction Accuracy (MSE: {mse:.2f})")
plt.grid(True)
plt.show()
